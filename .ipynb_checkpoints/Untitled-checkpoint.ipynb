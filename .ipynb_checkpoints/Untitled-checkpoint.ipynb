{
 "cells": [
  {
   "cell_type": "code",
   "execution_count": 1,
   "id": "7009fbde-ffef-4ed6-af66-a914738762fb",
   "metadata": {},
   "outputs": [],
   "source": [
    "# backend/parser.py\n",
    "\n",
    "from pymavlink import mavutil\n",
    "from pathlib import Path\n",
    "from typing import Dict\n",
    "import pandas as pd\n"
   ]
  },
  {
   "cell_type": "code",
   "execution_count": 2,
   "id": "313e3985-073a-4108-b75a-acfb4ae936b6",
   "metadata": {},
   "outputs": [],
   "source": [
    "def mavlink_to_dataframe_from_file(log_path: Path) -> pd.DataFrame:\n",
    "    \"\"\"Parse a MAVLink .tlog/.bin from a local file into a tidy DataFrame (message, time_us, fields…).\"\"\"\n",
    "    mav = mavutil.mavlink_connection(str(log_path), dialect=\"ardupilotmega\")\n",
    "    rows = []\n",
    "    while True:\n",
    "        msg = mav.recv_match(blocking=False)\n",
    "        if msg is None:\n",
    "            break\n",
    "        d = msg.to_dict()\n",
    "        d[\"_msgtype\"] = msg.get_type()\n",
    "        rows.append(d)\n",
    "    df = pd.DataFrame(rows)\n",
    "    if \"time_boot_us\" in df.columns:\n",
    "        df[\"t_sec\"] = df[\"time_boot_us\"] / 1_000_000\n",
    "    return df\n",
    "\n"
   ]
  },
  {
   "cell_type": "code",
   "execution_count": 3,
   "id": "0736e774-d8bc-4123-9e7d-5f93a57bf1f2",
   "metadata": {},
   "outputs": [],
   "source": [
    "def dataframe_to_csv(df: pd.DataFrame, out_path: Path) -> None:\n",
    "    \"\"\"Write the tidy DataFrame to CSV.\"\"\"\n",
    "    df.to_csv(out_path, index=False)\n",
    "\n",
    "def quick_stats(df: pd.DataFrame) -> Dict[str, str]:\n",
    "    \"\"\"Return a minimal dict summary injected into the LLM prompt.\"\"\"\n",
    "    out = {}\n",
    "    if \"ALT\" in df:\n",
    "        out[\"max_altitude_m\"] = f\"{df['ALT'].max():.1f}\"\n",
    "    if \"Vcc\" in df:\n",
    "        out[\"battery_max_v\"] = f\"{df['Vcc'].max():.2f}\"\n",
    "    out[\"duration_s\"] = f\"{df['t_sec'].max():.1f}\" if \"t_sec\" in df else \"n/a\"\n",
    "    return out\n"
   ]
  },
  {
   "cell_type": "code",
   "execution_count": 4,
   "id": "b9b8e041-64fe-411e-81b8-ee45fb9fb38e",
   "metadata": {},
   "outputs": [
    {
     "name": "stdout",
     "output_type": "stream",
     "text": [
      "{'battery_max_v': '5.23', 'duration_s': 'n/a'}\n"
     ]
    }
   ],
   "source": [
    "\n",
    "# Example usage\n",
    "if __name__ == \"__main__\":\n",
    "    # Change this to the path to your .bin file\n",
    "    log_path = Path('/Users/ashishharrison/Downloads/UAV/UAVLogViewer-final/1980-01-08 09-44-08.bin')\n",
    "    df = mavlink_to_dataframe_from_file(log_path)\n",
    "    dataframe_to_csv(df, Path(\"output.csv\"))\n",
    "    stats = quick_stats(df)\n",
    "    print(stats)"
   ]
  },
  {
   "cell_type": "code",
   "execution_count": null,
   "id": "de3c02ff-65cf-426f-9f8e-eb09c24e0acb",
   "metadata": {},
   "outputs": [],
   "source": []
  }
 ],
 "metadata": {
  "kernelspec": {
   "display_name": "Python 3 (ipykernel)",
   "language": "python",
   "name": "python3"
  },
  "language_info": {
   "codemirror_mode": {
    "name": "ipython",
    "version": 3
   },
   "file_extension": ".py",
   "mimetype": "text/x-python",
   "name": "python",
   "nbconvert_exporter": "python",
   "pygments_lexer": "ipython3",
   "version": "3.11.11"
  }
 },
 "nbformat": 4,
 "nbformat_minor": 5
}
